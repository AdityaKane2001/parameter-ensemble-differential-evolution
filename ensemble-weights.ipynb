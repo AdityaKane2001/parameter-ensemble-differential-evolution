{
 "cells": [
  {
   "cell_type": "code",
   "execution_count": 1,
   "id": "df792b8a",
   "metadata": {},
   "outputs": [],
   "source": [
    "from scipy.optimize import differential_evolution\n",
    "import tensorflow as tf\n",
    "import configs\n",
    "import models"
   ]
  },
  {
   "cell_type": "code",
   "execution_count": 2,
   "id": "aed5ef80",
   "metadata": {},
   "outputs": [],
   "source": [
    "run_config = configs.get_model_config(\n",
    "    dataset_name=\"cifar10\", num_classes=10, image_size=32, path=\".\"\n",
    ")\n",
    "dataset_config = run_config[\"dataset_config\"]"
   ]
  },
  {
   "cell_type": "code",
   "execution_count": 3,
   "id": "03cdfe57",
   "metadata": {},
   "outputs": [
    {
     "name": "stderr",
     "output_type": "stream",
     "text": [
      "2022-01-02 15:11:51.132633: I tensorflow/core/platform/cpu_feature_guard.cc:151] This TensorFlow binary is optimized with oneAPI Deep Neural Network Library (oneDNN) to use the following CPU instructions in performance-critical operations:  AVX2 FMA\n",
      "To enable them in other operations, rebuild TensorFlow with the appropriate compiler flags.\n"
     ]
    }
   ],
   "source": [
    "batch_size = run_config[\"batch_size\"]\n",
    "(_, _), (x_test, y_test) = tf.keras.datasets.cifar10.load_data()\n",
    "test_ds = tf.data.Dataset.from_tensor_slices((x_test, y_test))\n",
    "test_ds = test_ds.batch(batch_size).prefetch(tf.data.AUTOTUNE)"
   ]
  },
  {
   "cell_type": "code",
   "execution_count": 4,
   "id": "c065ae99",
   "metadata": {},
   "outputs": [
    {
     "data": {
      "text/plain": [
       "['./220102-090159-cifar10', './220102-090412-cifar10']"
      ]
     },
     "execution_count": 4,
     "metadata": {},
     "output_type": "execute_result"
    }
   ],
   "source": [
    "model_ckpt_paths = tf.io.gfile.glob(\"*-cifar10\")\n",
    "sorted(model_ckpt_paths)"
   ]
  },
  {
   "cell_type": "code",
   "execution_count": 5,
   "id": "c87be39a",
   "metadata": {},
   "outputs": [
    {
     "name": "stdout",
     "output_type": "stream",
     "text": [
      "\n"
     ]
    }
   ],
   "source": [
    "model_one = models.get_shallow_cnn(run_config)\n",
    "model_one.load_weights(tf.train.latest_checkpoint(model_ckpt_paths[0]))\n",
    "\n",
    "model_two = models.get_shallow_cnn(run_config)\n",
    "model_two.load_weights(tf.train.latest_checkpoint(model_ckpt_paths[1]))\n",
    "\n",
    "print(\"\")"
   ]
  },
  {
   "cell_type": "code",
   "execution_count": 6,
   "id": "daf42177",
   "metadata": {},
   "outputs": [],
   "source": [
    "ensembled_model = models.get_shallow_cnn(run_config)\n",
    "ensembled_model.compile(\n",
    "    loss=\"sparse_categorical_crossentropy\", metrics=[\"accuracy\"], optimizer=\"adam\"\n",
    ")\n",
    "ema = 0.01\n",
    "\n",
    "for i in range(len(ensembled_model.layers)):\n",
    "    if hasattr(ensembled_model.layers[i], \"kernel\") and (\n",
    "        hasattr(ensembled_model.layers[i], \"bias\")\n",
    "    ):\n",
    "        ensembled_weights = (\n",
    "            model_one.layers[i].kernel * ema + (1 - ema) * model_two.layers[i].kernel\n",
    "        )\n",
    "\n",
    "        ensembled_bias = (\n",
    "            model_one.layers[i].bias * ema + (1 - ema) * model_two.layers[i].bias\n",
    "        )\n",
    "\n",
    "        ensembled_model.layers[i].kernel.assign(tf.Variable(ensembled_weights))\n",
    "        ensembled_model.layers[i].bias.assign(tf.Variable(ensembled_bias))"
   ]
  },
  {
   "cell_type": "code",
   "execution_count": 7,
   "id": "7517d827",
   "metadata": {},
   "outputs": [
    {
     "name": "stdout",
     "output_type": "stream",
     "text": [
      "20/20 [==============================] - 1s 30ms/step - loss: 1.0434 - accuracy: 0.6333\n",
      "Test accuracy: 63.33%\n"
     ]
    }
   ],
   "source": [
    "_, accuracy = ensembled_model.evaluate(test_ds)\n",
    "print(f\"Test accuracy: {round(accuracy * 100, 2)}%\")"
   ]
  },
  {
   "cell_type": "code",
   "execution_count": 8,
   "id": "f4ad7591",
   "metadata": {},
   "outputs": [],
   "source": [
    "def evaluate_model(ema_factor, members, test_ds):\n",
    "    ensembled_model = models.get_shallow_cnn(run_config)\n",
    "    ensembled_model.compile(\n",
    "        loss=\"sparse_categorical_crossentropy\", metrics=[\"accuracy\"], optimizer=\"adam\"\n",
    "    )\n",
    "\n",
    "    for i in range(len(ensembled_model.layers)):\n",
    "        if hasattr(ensembled_model.layers[i], \"kernel\") and (\n",
    "            hasattr(ensembled_model.layers[i], \"bias\")\n",
    "        ):\n",
    "            ensembled_weights = (\n",
    "                members[0].layers[i].kernel * ema\n",
    "                + (1 - ema) * members[1].layers[i].kernel\n",
    "            )\n",
    "\n",
    "            ensembled_bias = (\n",
    "                members[0].layers[i].bias * ema_factor\n",
    "                + (1 - ema_factor) * members[1].layers[i].bias\n",
    "            )\n",
    "\n",
    "            ensembled_model.layers[i].kernel.assign(tf.Variable(ensembled_weights))\n",
    "            ensembled_model.layers[i].bias.assign(tf.Variable(ensembled_bias))\n",
    "\n",
    "    _, accuracy = ensembled_model.evaluate(test_ds, verbose=0)\n",
    "    return accuracy\n",
    "\n",
    "\n",
    "def loss_evolution(ema_factor, members, test_ds):\n",
    "    return 1.0 - evaluate_model(ema_factor, members, test_ds)"
   ]
  },
  {
   "cell_type": "code",
   "execution_count": 9,
   "id": "a308f719",
   "metadata": {},
   "outputs": [],
   "source": [
    "# Reference: https://machinelearningmastery.com/weighted-average-ensemble-for-deep-learning-neural-networks/\n",
    "members = [model_one, model_two]\n",
    "\n",
    "search_arg = (members, test_ds)\n",
    "result = differential_evolution(\n",
    "    loss_evolution, bounds=[(0, 1)], args=search_arg, maxiter=1000, tol=1e-7,\n",
    ")"
   ]
  },
  {
   "cell_type": "code",
   "execution_count": 11,
   "id": "6a92ea57",
   "metadata": {},
   "outputs": [
    {
     "name": "stdout",
     "output_type": "stream",
     "text": [
      "EMA factor found using differential evolution: [0.02048232].\n",
      "Test accuracy: 63.5%\n"
     ]
    }
   ],
   "source": [
    "print(f\"EMA factor found using differential evolution: {result['x']}.\")\n",
    "accuracy = evaluate_model(result[\"x\"], members, test_ds)\n",
    "print(f\"Test accuracy: {round(accuracy * 100, 2)}%\")"
   ]
  },
  {
   "cell_type": "code",
   "execution_count": 34,
   "id": "da43622e",
   "metadata": {},
   "outputs": [
    {
     "name": "stdout",
     "output_type": "stream",
     "text": [
      "20/20 [==============================] - 1s 30ms/step - loss: 2.3025 - accuracy: 0.1040\n",
      "Test accuracy: 10.4%\n"
     ]
    }
   ],
   "source": [
    "ensembled_model = models.get_shallow_cnn(run_config)\n",
    "ensembled_model.compile(\n",
    "    loss=\"sparse_categorical_crossentropy\", metrics=[\"accuracy\"], optimizer=\"adam\"\n",
    ")\n",
    "\n",
    "_, accuracy = ensembled_model.evaluate(test_ds)\n",
    "print(f\"Test accuracy: {round(accuracy * 100, 2)}%\")"
   ]
  },
  {
   "cell_type": "code",
   "execution_count": 13,
   "id": "3d2d1ee7",
   "metadata": {},
   "outputs": [
    {
     "name": "stdout",
     "output_type": "stream",
     "text": [
      "20/20 [==============================] - 1s 30ms/step - loss: 1.0428 - accuracy: 0.6323\n",
      "Test accuracy: 63.23%\n",
      "20/20 [==============================] - 1s 30ms/step - loss: 1.0436 - accuracy: 0.6342\n",
      "Test accuracy: 63.42%\n"
     ]
    }
   ],
   "source": [
    "for model in members:\n",
    "    model.compile(\n",
    "        loss=\"sparse_categorical_crossentropy\", metrics=[\"accuracy\"], optimizer=\"adam\"\n",
    "    )\n",
    "\n",
    "    _, accuracy = model.evaluate(test_ds)\n",
    "    print(f\"Test accuracy: {round(accuracy * 100, 2)}%\")"
   ]
  }
 ],
 "metadata": {
  "kernelspec": {
   "display_name": "Python 3 (ipykernel)",
   "language": "python",
   "name": "python3"
  },
  "language_info": {
   "codemirror_mode": {
    "name": "ipython",
    "version": 3
   },
   "file_extension": ".py",
   "mimetype": "text/x-python",
   "name": "python",
   "nbconvert_exporter": "python",
   "pygments_lexer": "ipython3",
   "version": "3.8.2"
  }
 },
 "nbformat": 4,
 "nbformat_minor": 5
}
